{
  "nbformat": 4,
  "nbformat_minor": 0,
  "metadata": {
    "colab": {
      "name": "Assignment1-Python.ipynb",
      "provenance": [],
      "collapsed_sections": []
    },
    "kernelspec": {
      "name": "python3",
      "display_name": "Python 3"
    },
    "language_info": {
      "name": "python"
    }
  },
  "cells": [
    {
      "cell_type": "markdown",
      "metadata": {
        "id": "sQ3qdNg0fU0k"
      },
      "source": [
        "#1. Python\n",
        "\n",
        " \n",
        "\n",
        "## 1. Which one would you prefer and why?\n",
        "\n",
        " \n",
        "\n",
        "With or without `(object)`?\n",
        "\n",
        " \n",
        "\n",
        "```\n",
        "\n",
        "class ExampleClass(object):\n",
        "\n",
        "    ...\n",
        "\n",
        "```\n",
        "\n",
        " \n",
        "\n",
        "or\n",
        "\n",
        " \n",
        "\n",
        "```\n",
        "\n",
        "class ExampleClass:\n",
        "\n",
        "    ...\n",
        "\n",
        "```\n",
        "\n",
        "## **Answer**\n",
        "I would prefer the first method of class with (object) if I am using the Python version 2.2 and above. The class with (object) are the new style classes introduced in Python 2.2 and above version to solve the problem of Diamond Inheriternce [1,2].\\\n",
        "For the Python version 3 and above, there is no need to mention the (object) in the class as Python 3 doesn't support old style classes, so either form noted above results in a new-style class [3]."
      ]
    },
    {
      "cell_type": "markdown",
      "metadata": {
        "id": "pPT0zoILKivx"
      },
      "source": [
        "# **References**\n",
        "\n",
        "\n",
        "1.   https://www.youtube.com/watch?v=SvOZdxPnBto\n",
        "2.   https://www.youtube.com/watch?v=8vDvuAe661Q\n",
        "3.   https://stackoverflow.com/questions/54867/what-is-the-difference-between-old-style-and-new-style-classes-in-python\n",
        "\n",
        "\n",
        "\n"
      ]
    }
  ]
}