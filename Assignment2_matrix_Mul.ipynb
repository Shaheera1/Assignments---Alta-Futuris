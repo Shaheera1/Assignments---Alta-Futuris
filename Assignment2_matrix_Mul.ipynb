{
  "nbformat": 4,
  "nbformat_minor": 0,
  "metadata": {
    "colab": {
      "name": "Assignment2-matrix_Mul.ipynb",
      "provenance": []
    },
    "kernelspec": {
      "name": "python3",
      "display_name": "Python 3"
    },
    "language_info": {
      "name": "python"
    }
  },
  "cells": [
    {
      "cell_type": "markdown",
      "metadata": {
        "id": "U5OwiTEOMK2Y"
      },
      "source": [
        "## 2. Write a class that implements a matrix.\n",
        "\n",
        " \n",
        "\n",
        "You are allowed to use external libraries for the internal implementation.\n",
        "\n",
        "Each sub-task of this one should be in a separate cell.\n",
        "\n"
      ]
    },
    {
      "cell_type": "markdown",
      "metadata": {
        "id": "-9mjYKzXMSY5"
      },
      "source": [
        "### 2.1 Implement the Matrix class with a standard constructor.\n",
        "\n",
        "The matrix must be such that the following code works (e.g. in a notebook cell).\n",
        "\n",
        " \n",
        "\n",
        " \n",
        "\n",
        "```\n",
        "\n",
        "k=3\n",
        "\n",
        "l=4\n",
        "\n",
        "m=5\n",
        "\n",
        "A=Matrix(k, l)\n",
        "\n",
        "B=Matrix(l, m)\n",
        "\n",
        "```"
      ]
    },
    {
      "cell_type": "markdown",
      "metadata": {
        "id": "SK0W5dd8_D7b"
      },
      "source": [
        "**First Matrix A and Second Matrix B**"
      ]
    },
    {
      "cell_type": "code",
      "metadata": {
        "id": "DctYayyXMtEA"
      },
      "source": [
        "import math\n",
        "from math import sqrt\n",
        "import numbers\n",
        "import numpy as np\n",
        "\n",
        "class Matrix(object):\n",
        "    # Constructor\n",
        "    def __init__(self, k, l, m):\n",
        "      self.row_A = k\n",
        "      self.col_A = l\n",
        "      self.row_B = l\n",
        "      self.col_B = m\n",
        "          \n",
        "    def Matrix_items_A(self, m_A):\n",
        "      m_A = np.empty((self.row_A, self.col_A))\n",
        "      for i in range(self.row_A):\n",
        "        for j in range(self.col_A):\n",
        "          y_A = input(\"Enter value \")\n",
        "          m_A[i,j] = y_A\n",
        "      return m_A\n",
        "    def Matrix_items_B(self, m_B):\n",
        "      m_B = np.empty((self.row_B, self.col_B))\n",
        "      for i in range(self.row_B):\n",
        "        for j in range(self.col_B):\n",
        "          y_B = input(\"Enter value \")\n",
        "          m_B[i,j] = y_B\n",
        "      return m_B\n"
      ],
      "execution_count": null,
      "outputs": []
    },
    {
      "cell_type": "code",
      "metadata": {
        "colab": {
          "base_uri": "https://localhost:8080/"
        },
        "id": "iGvtsURZAAxz",
        "outputId": "6d0e4802-030e-4d78-d285-6e8e50e64139"
      },
      "source": [
        "y1_A = Matrix(3,4,5)\n",
        "A = y1_A.Matrix_items_A(m)\n",
        "print(\"The contents of the first matrix is \\n\", A)\n",
        "B = y1_A.Matrix_items_B(m)\n",
        "print(\"The contents of the first matrix is \\n\", B)"
      ],
      "execution_count": null,
      "outputs": [
        {
          "output_type": "stream",
          "name": "stdout",
          "text": [
            "Enter value 3\n",
            "Enter value 5\n",
            "Enter value 6\n",
            "Enter value 9\n",
            "Enter value 0\n",
            "Enter value 4\n",
            "Enter value 5\n",
            "Enter value 6\n",
            "Enter value 7\n",
            "Enter value 3\n",
            "Enter value 2\n",
            "Enter value 5\n",
            "The contents of the first matrix is \n",
            " [[3. 5. 6. 9.]\n",
            " [0. 4. 5. 6.]\n",
            " [7. 3. 2. 5.]]\n",
            "Enter value 7\n",
            "Enter value 6\n",
            "Enter value 0\n",
            "Enter value 0\n",
            "Enter value 3\n",
            "Enter value 5\n",
            "Enter value 7\n",
            "Enter value 9\n",
            "Enter value 1\n",
            "Enter value 0\n",
            "Enter value 2\n",
            "Enter value 0\n",
            "Enter value 0\n",
            "Enter value 7\n",
            "Enter value 5\n",
            "Enter value 4\n",
            "Enter value 4\n",
            "Enter value 3\n",
            "Enter value 0\n",
            "Enter value 2\n",
            "The contents of the first matrix is \n",
            " [[7. 6. 0. 0. 3.]\n",
            " [5. 7. 9. 1. 0.]\n",
            " [2. 0. 0. 7. 5.]\n",
            " [4. 4. 3. 0. 2.]]\n"
          ]
        }
      ]
    },
    {
      "cell_type": "markdown",
      "metadata": {
        "id": "3ss5HvEHMVeh"
      },
      "source": [
        "### 2.2 Implement methods for Matrix dimensions.\n",
        "\n",
        " \n",
        "\n",
        "Implement methods in the Matrix class so that the following code works.\n",
        "\n",
        " \n",
        "\n",
        "```\n",
        "\n",
        "k=3\n",
        "\n",
        "l=4\n",
        "\n",
        "m=5\n",
        "\n",
        "A=Matrix(k, l)\n",
        "\n",
        "B=Matrix(l, m)\n",
        "\n",
        "assert A.ncols == B.nrows\n",
        "\n",
        "```"
      ]
    },
    {
      "cell_type": "code",
      "metadata": {
        "id": "fowI8jE-B91c"
      },
      "source": [
        "import math\n",
        "from math import sqrt\n",
        "import numbers\n",
        "import numpy as np\n",
        "\n",
        "class Matrix(object):\n",
        "    # Constructor\n",
        "    def __init__(self, k, l, m):\n",
        "      self.row_A = k\n",
        "      self.col_A = l\n",
        "      self.row_B = l\n",
        "      self.col_B = m\n",
        "          \n",
        "    def Matrix_items_A(self, m_A):\n",
        "      m_A = np.empty((self.row_A, self.col_A))\n",
        "      for i in range(self.row_A):\n",
        "        for j in range(self.col_A):\n",
        "          y_A = input(\"Enter value \")\n",
        "          m_A[i,j] = y_A\n",
        "      return m_A\n",
        "    def Matrix_items_B(self, m_B):\n",
        "      m_B = np.empty((self.row_B, self.col_B))\n",
        "      for i in range(self.row_B):\n",
        "        for j in range(self.col_B):\n",
        "          y_B = input(\"Enter value \")\n",
        "          m_B[i,j] = y_B\n",
        "      return m_B\n",
        "    def assert_check(x, y):\n",
        "      if x==y:\n",
        "        print(\"The column of Matrix A is equal to Matrix of B\")"
      ],
      "execution_count": null,
      "outputs": []
    },
    {
      "cell_type": "code",
      "metadata": {
        "colab": {
          "base_uri": "https://localhost:8080/"
        },
        "id": "7Y4fXu_PCV5C",
        "outputId": "ed50c0e6-c276-41f4-db15-24e136e9e6a8"
      },
      "source": [
        "y1_A = Matrix(3,4,5)\n",
        "A = y1_A.Matrix_items_A(m)\n",
        "x_A, y_A = A.shape\n",
        "B = y1_A.Matrix_items_B(m)\n",
        "x_B, y_B = B.shape\n",
        "Y = Matrix.assert_check(y_A, x_B)"
      ],
      "execution_count": null,
      "outputs": [
        {
          "output_type": "stream",
          "name": "stdout",
          "text": [
            "Enter value 0\n",
            "Enter value 1\n",
            "Enter value 2\n",
            "Enter value 3\n",
            "Enter value 4\n",
            "Enter value 5\n",
            "Enter value 6\n",
            "Enter value 7\n",
            "Enter value 8\n",
            "Enter value 9\n",
            "Enter value 1\n",
            "Enter value 2\n",
            "Enter value 2\n",
            "Enter value 3\n",
            "Enter value 4\n",
            "Enter value 4\n",
            "Enter value 1\n",
            "Enter value 3\n",
            "Enter value 4\n",
            "Enter value 5\n",
            "Enter value 6\n",
            "Enter value 7\n",
            "Enter value 8\n",
            "Enter value 9\n",
            "Enter value 0\n",
            "Enter value 3\n",
            "Enter value 5\n",
            "Enter value 6\n",
            "Enter value 8\n",
            "Enter value 9\n",
            "Enter value 2\n",
            "Enter value 1\n",
            "The column of Matrix A is equal to Matrix of B\n"
          ]
        }
      ]
    },
    {
      "cell_type": "markdown",
      "metadata": {
        "id": "8uhkFlgDMYTe"
      },
      "source": [
        "### 2.3 Implement Matrix multiplication.\n",
        "\n",
        " \n",
        "\n",
        "Implement methods in the Matrix class so that the following code works.\n",
        "\n",
        " \n",
        "\n",
        "```\n",
        "\n",
        "k=3\n",
        "\n",
        "l=4\n",
        "\n",
        "m=5\n",
        "\n",
        "A=Matrix(k, l)\n",
        "\n",
        "B=Matrix(l, m)\n",
        "\n",
        "assert A.ncols == B.nrows\n",
        "\n",
        "C = A * B\n",
        "\n",
        "```"
      ]
    },
    {
      "cell_type": "code",
      "metadata": {
        "id": "i7Z1jCl8MEYD"
      },
      "source": [
        "class Matrix_mul(object):\n",
        "    # Constructor\n",
        "    def __init__(self, A, B):\n",
        "      self.A = A\n",
        "      self.B = B\n",
        "     \n",
        "    def matrix_mul_f(self):\n",
        "      result = np.empty((3, 5))\n",
        "      for i in range(len(self.A)):\n",
        "        \n",
        "        for j in range(len(self.B[0])):\n",
        "         \n",
        "          for k in range(len(self.B)):\n",
        "            result[i][j] += self.A[i][k] * self.B[k][j]\n",
        "      return result\n"
      ],
      "execution_count": null,
      "outputs": []
    },
    {
      "cell_type": "code",
      "metadata": {
        "colab": {
          "base_uri": "https://localhost:8080/"
        },
        "id": "RdI4owUnIW8M",
        "outputId": "fa7cdb1c-75fe-4dca-a506-488caba583f4"
      },
      "source": [
        "OP = Matrix_mul(A, B)\n",
        "result_ = OP.matrix_mul_f()\n",
        "result_=result_.astype(np.int)\n",
        "print(result_.shape)\n",
        "print(result_)"
      ],
      "execution_count": null,
      "outputs": [
        {
          "output_type": "stream",
          "name": "stdout",
          "text": [
            "(3, 5)\n",
            "[[                 148                  184                  128\n",
            "                    72                   80]\n",
            " [                 452                  568                  416\n",
            "                   312                  304]\n",
            " [                 252                  340                  380\n",
            "  -9223372036854775808                  312]]\n"
          ]
        }
      ]
    },
    {
      "cell_type": "markdown",
      "metadata": {
        "id": "ZUXWJBfNLtE8"
      },
      "source": [
        "# **References**\n",
        "\n",
        "\n",
        "\n",
        "1.   https://docs.python.org/3/tutorial/classes.html\n",
        "2.   https://code.activestate.com/recipes/578131-a-simple-matrix-class/\n",
        "3.  https://stackoverflow.com/questions/48147950/matrix-class-test\n",
        "\n"
      ]
    }
  ]
}