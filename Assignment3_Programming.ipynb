{
  "nbformat": 4,
  "nbformat_minor": 0,
  "metadata": {
    "colab": {
      "name": "Assignment3-Programming.ipynb",
      "provenance": [],
      "collapsed_sections": []
    },
    "kernelspec": {
      "name": "python3",
      "display_name": "Python 3"
    },
    "language_info": {
      "name": "python"
    }
  },
  "cells": [
    {
      "cell_type": "markdown",
      "metadata": {
        "id": "QZgZ8kqCMzsM"
      },
      "source": [
        "# 2. Programming\n",
        "\n",
        "\n"
      ]
    },
    {
      "cell_type": "markdown",
      "metadata": {
        "id": "bl8ZbjrEUyCc"
      },
      "source": [
        "**1. What is your favourite tool for debugging python code? Why?**\\\n",
        "\\\n",
        "**Answer:** One of my favourite debugging python code is PyCharm. The platform has everything you need to get started. There is also an awesome ecosystem of plugins that you can get to help push your Python programming to the next level.\n"
      ]
    },
    {
      "cell_type": "markdown",
      "metadata": {
        "id": "0K5yDjZ-Un5Z"
      },
      "source": [
        "**2. What is your favourite recently added feature in python? Why?**\n",
        "\n",
        " **Answer:** Walrus operator is the coolest feature that was added in the Python 3.8 update, the Python release that most of you are probably using right now. The operator := is called the walrus operator since it characterizes the look of the walrus. Assignment expressions allow you to assign and return a value in the same expression. For example, if you want to assign to a variable and print its value, then you typically do something like this:\n",
        "\n",
        " >>> walrus = False\\\n",
        " print(walrus)\\\n",
        "False\n",
        "\n",
        "In Python 3.8 and above, you’re allowed to combine these two statements into one, using the walrus operator:\n",
        "\n",
        ">>> print(walrus := True)\\\n",
        "True"
      ]
    }
  ]
}